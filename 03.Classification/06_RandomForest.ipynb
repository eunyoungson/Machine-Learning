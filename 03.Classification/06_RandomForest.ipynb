{
 "metadata": {
  "language_info": {
   "codemirror_mode": {
    "name": "ipython",
    "version": 3
   },
   "file_extension": ".py",
   "mimetype": "text/x-python",
   "name": "python",
   "nbconvert_exporter": "python",
   "pygments_lexer": "ipython3",
   "version": "3.8.3-final"
  },
  "orig_nbformat": 2,
  "kernelspec": {
   "name": "python3",
   "display_name": "Python 3",
   "language": "python"
  }
 },
 "nbformat": 4,
 "nbformat_minor": 2,
 "cells": [
  {
   "source": [
    "랜덤 포레스트(Random Forest)"
   ],
   "cell_type": "markdown",
   "metadata": {}
  },
  {
   "cell_type": "code",
   "execution_count": 2,
   "metadata": {},
   "outputs": [],
   "source": [
    "import pandas as pd \n",
    "feature_name_df = pd.read_csv('../00.data/UCI HAR Dataset/features.txt', sep='\\s+',\n",
    "                                header=None, names=['col_index','col_name'])"
   ]
  },
  {
   "cell_type": "code",
   "execution_count": 3,
   "metadata": {},
   "outputs": [],
   "source": [
    "def get_new_feature_name_df(old_df):\n",
    "    dup_df = pd.DataFrame({'dup_cnt':feature_name_df.groupby('col_name').cumcount()})\n",
    "    new_df = pd.merge(old_df.reset_index(), dup_df.reset_index())\n",
    "    new_df['col_name'] = new_df[['col_name', 'dup_cnt']].\\\n",
    "        apply(lambda x: x[0]+'_'+str(x[1]) if x[1] > 0 else x[0], axis=1)\n",
    "    new_df = new_df.drop(['index'], axis=1)\n",
    "    return new_df"
   ]
  },
  {
   "cell_type": "code",
   "execution_count": 4,
   "metadata": {},
   "outputs": [],
   "source": [
    "\n",
    "new_feature_df = get_new_feature_name_df(feature_name_df)\n",
    "feature_list = list(new_feature_df.col_name.values)"
   ]
  },
  {
   "cell_type": "code",
   "execution_count": 6,
   "metadata": {},
   "outputs": [],
   "source": [
    "X_train = pd.read_csv('../00.data/UCI HAR Dataset/train/X_train.txt', \n",
    "                      header=None, sep='\\s+', names=feature_list)\n",
    "X_test = pd.read_csv('../00.data/UCI HAR Dataset/test/X_test.txt', \n",
    "                     header=None, sep='\\s+', names=feature_list)\n",
    "y_train = pd.read_csv('../00.data/UCI HAR Dataset/train/y_train.txt', \n",
    "                      header=None, sep='\\s+', names=['action'])\n",
    "y_test = pd.read_csv('../00.data/UCI HAR Dataset/test/y_test.txt', \n",
    "                     header=None, sep='\\s+', names=['action'])"
   ]
  },
  {
   "source": [
    "랜덤 포레스트 모델 생성/학습/예측/평가"
   ],
   "cell_type": "markdown",
   "metadata": {}
  },
  {
   "cell_type": "code",
   "execution_count": null,
   "metadata": {},
   "outputs": [],
   "source": [
    "from sklearn.ensemble import RandomForestClassifier\n",
    "from sklearn.metrics import accuracy_score\n",
    "\n",
    "rf_clf = RandomForestClassifier(random_state=156)\n",
    "rf_clf.fit(X_train, y_train)\n",
    "pred = rf_clf.predict(X_test)\n",
    "acc = accuracy_score(y_test, pred)\n",
    "print(f'랜덤 포레스트 정확도: {acc:.4f}')"
   ]
  },
  {
   "source": [
    "최적 파라미터 찾기"
   ],
   "cell_type": "markdown",
   "metadata": {}
  },
  {
   "cell_type": "code",
   "execution_count": null,
   "metadata": {},
   "outputs": [],
   "source": [
    "from sklearn.model_selection import GridSearchCV\n",
    "\n",
    "params = {\n",
    "    'n_estimators': [10, 50, 100],\n",
    "    'max_depth': [8, 12, 16],\n",
    "    'min_samples_split': [12, 16, 20]\n",
    "}"
   ]
  },
  {
   "cell_type": "code",
   "execution_count": null,
   "metadata": {},
   "outputs": [],
   "source": [
    "rf_clf = RandomForestClassifier(random_state=156, n_jobs=-1)\n",
    "grid_cv = GridSearchCV(rf_clf, param_grid=params, cv=3, n_jobs=-1)\n",
    "grid_cv.fit(X_train, y_train)\n",
    "print(f'최고 평균 정확도: {grid_cv.best_score_:.4f}')\n",
    "print('최적 파라미터:', grid_cv.best_params_)"
   ]
  },
  {
   "cell_type": "code",
   "execution_count": null,
   "metadata": {},
   "outputs": [],
   "source": [
    "df = pd.DataFrame(grid_cv.cv_results_)\n",
    "df = df[['param_n_estimators', 'param_max_depth', 'param_min_samples_split', 'mean_test_score']]\n",
    "df"
   ]
  },
  {
   "source": [
    "튜닝된 파라미터로 재평가"
   ],
   "cell_type": "markdown",
   "metadata": {}
  },
  {
   "cell_type": "code",
   "execution_count": null,
   "metadata": {},
   "outputs": [],
   "source": [
    "best_clf = grid_cv.best_estimator_\n",
    "pred = best_clf.predict(X_test)\n",
    "acc = accuracy_score(y_test, pred)\n",
    "print(f'최적 파라미터 랜덤 포레스트 정확도: {acc:.4f}')"
   ]
  },
  {
   "source": [
    "재탐색"
   ],
   "cell_type": "markdown",
   "metadata": {}
  },
  {
   "cell_type": "code",
   "execution_count": null,
   "metadata": {},
   "outputs": [],
   "source": [
    "params = {\n",
    "    'n_estimators': [10, 50, 100]\n",
    "}\n",
    "rf_clf = RandomForestClassifier(random_state=156, n_jobs=-1)\n",
    "grid_cv = GridSearchCV(rf_clf, param_grid=params, cv=3, n_jobs=-1)\n",
    "grid_cv.fit(X_train, y_train)\n",
    "print(f'최고 평균 정확도: {grid_cv.best_score_:.4f}')\n",
    "print('최적 파라미터:', grid_cv.best_params_)"
   ]
  },
  {
   "cell_type": "code",
   "execution_count": null,
   "metadata": {},
   "outputs": [],
   "source": [
    "\n",
    "best_clf = grid_cv.best_estimator_\n",
    "pred = best_clf.predict(X_test)\n",
    "acc = accuracy_score(y_test, pred)\n",
    "print(f'최적 파라미터 랜덤 포레스트 정확도: {acc:.4f}')"
   ]
  },
  {
   "source": [
    "K 최근접 이웃(K-Nearest Neighbor)"
   ],
   "cell_type": "markdown",
   "metadata": {}
  },
  {
   "cell_type": "code",
   "execution_count": null,
   "metadata": {},
   "outputs": [],
   "source": [
    "from sklearn.neighbors import KNeighborsClassifier\n",
    "knn = KNeighborsClassifier()\n",
    "knn.get_params()"
   ]
  },
  {
   "cell_type": "code",
   "execution_count": null,
   "metadata": {},
   "outputs": [],
   "source": [
    "knn.fit(X_train, y_train)\n",
    "pred = knn.predict(X_test)\n",
    "accuracy_score(y_test, pred)"
   ]
  }
 ]
}