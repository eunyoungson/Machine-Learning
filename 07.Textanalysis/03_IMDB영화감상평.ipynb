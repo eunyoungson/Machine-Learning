{
 "metadata": {
  "language_info": {
   "codemirror_mode": {
    "name": "ipython",
    "version": 3
   },
   "file_extension": ".py",
   "mimetype": "text/x-python",
   "name": "python",
   "nbconvert_exporter": "python",
   "pygments_lexer": "ipython3",
   "version": "3.8.3-final"
  },
  "orig_nbformat": 2,
  "kernelspec": {
   "name": "python3",
   "display_name": "Python 3",
   "language": "python"
  }
 },
 "nbformat": 4,
 "nbformat_minor": 2,
 "cells": [
  {
   "source": [
    "IMDB 영화평 감성분석"
   ],
   "cell_type": "markdown",
   "metadata": {}
  },
  {
   "cell_type": "code",
   "execution_count": 1,
   "metadata": {},
   "outputs": [],
   "source": [
    "import numpy as np \n",
    "import pandas as pd"
   ]
  },
  {
   "cell_type": "code",
   "execution_count": 2,
   "metadata": {},
   "outputs": [
    {
     "output_type": "execute_result",
     "data": {
      "text/plain": [
       "         id  sentiment                                             review\n",
       "0  \"5814_8\"          1  \"With all this stuff going down at the moment ...\n",
       "1  \"2381_9\"          1  \"\\\"The Classic War of the Worlds\\\" by Timothy ...\n",
       "2  \"7759_3\"          0  \"The film starts with a manager (Nicholas Bell..."
      ],
      "text/html": "<div>\n<style scoped>\n    .dataframe tbody tr th:only-of-type {\n        vertical-align: middle;\n    }\n\n    .dataframe tbody tr th {\n        vertical-align: top;\n    }\n\n    .dataframe thead th {\n        text-align: right;\n    }\n</style>\n<table border=\"1\" class=\"dataframe\">\n  <thead>\n    <tr style=\"text-align: right;\">\n      <th></th>\n      <th>id</th>\n      <th>sentiment</th>\n      <th>review</th>\n    </tr>\n  </thead>\n  <tbody>\n    <tr>\n      <th>0</th>\n      <td>\"5814_8\"</td>\n      <td>1</td>\n      <td>\"With all this stuff going down at the moment ...</td>\n    </tr>\n    <tr>\n      <th>1</th>\n      <td>\"2381_9\"</td>\n      <td>1</td>\n      <td>\"\\\"The Classic War of the Worlds\\\" by Timothy ...</td>\n    </tr>\n    <tr>\n      <th>2</th>\n      <td>\"7759_3\"</td>\n      <td>0</td>\n      <td>\"The film starts with a manager (Nicholas Bell...</td>\n    </tr>\n  </tbody>\n</table>\n</div>"
     },
     "metadata": {},
     "execution_count": 2
    }
   ],
   "source": [
    "df = pd.read_csv('../00.data/IMDB/labeledTrainData.tsv',\n",
    "                 header=0, sep='\\t', quoting=3)\n",
    "df.head(3)"
   ]
  },
  {
   "cell_type": "code",
   "execution_count": 3,
   "metadata": {},
   "outputs": [
    {
     "output_type": "stream",
     "name": "stdout",
     "text": [
      "<class 'pandas.core.frame.DataFrame'>\nRangeIndex: 25000 entries, 0 to 24999\nData columns (total 3 columns):\n #   Column     Non-Null Count  Dtype \n---  ------     --------------  ----- \n 0   id         25000 non-null  object\n 1   sentiment  25000 non-null  int64 \n 2   review     25000 non-null  object\ndtypes: int64(1), object(2)\nmemory usage: 586.1+ KB\n"
     ]
    }
   ],
   "source": [
    "df.info()"
   ]
  },
  {
   "cell_type": "code",
   "execution_count": 4,
   "metadata": {},
   "outputs": [
    {
     "output_type": "execute_result",
     "data": {
      "text/plain": [
       "'\"With all this stuff going down at the moment with MJ i\\'ve started listening to his music, watching the odd documentary here and there, watched The Wiz and watched Moonwalker again. Maybe i just want to get a certain insight into this guy who i thought was really cool in the eighties just to maybe make up my mind whether he is guilty or innocent. Moonwalker is part biography, part feature film which i remember going to see at the cinema when it was originally released. Some of it has subtle messages about MJ\\'s feeling towards the press and also the obvious message of drugs are bad m\\'kay.<br /><br />Visually impressive but of course this is all about Michael Jackson so unless you remotely like MJ in anyway then you are going to hate this and find it boring. Some may call MJ an egotist for consenting to the making of this movie BUT MJ and most of his fans would say that he made it for the fans which if true is really nice of him.<br /><br />The actual feature film bit when it finally sta'"
      ]
     },
     "metadata": {},
     "execution_count": 4
    }
   ],
   "source": [
    "df.review[0][:1000]"
   ]
  },
  {
   "cell_type": "code",
   "execution_count": 6,
   "metadata": {},
   "outputs": [],
   "source": [
    "# <br /> 태그는 공백으로 변환\n",
    "df['review'] = df.review.str.replace('<br />', ' ')"
   ]
  },
  {
   "cell_type": "code",
   "execution_count": 7,
   "metadata": {},
   "outputs": [],
   "source": [
    "# 영어 이외의 문자는 공백으로 변환\n",
    "import re\n",
    "\n",
    "df['review'] = df.review.apply(lambda x: re.sub('[^a-zA-Z]', ' ', x))"
   ]
  },
  {
   "cell_type": "code",
   "execution_count": 8,
   "metadata": {},
   "outputs": [
    {
     "output_type": "execute_result",
     "data": {
      "text/plain": [
       "((17500, 1), (7500, 1))"
      ]
     },
     "metadata": {},
     "execution_count": 8
    }
   ],
   "source": [
    "from sklearn.model_selection import train_test_split\n",
    "\n",
    "feature_df = df.drop(['id', 'sentiment'], axis=1, inplace=False)\n",
    "X_train, X_test, y_train, y_test = train_test_split(\n",
    "    feature_df, df.sentiment, test_size=0.3, random_state=156\n",
    ")\n",
    "X_train.shape, X_test.shape"
   ]
  },
  {
   "cell_type": "code",
   "execution_count": 9,
   "metadata": {},
   "outputs": [
    {
     "output_type": "execute_result",
     "data": {
      "text/plain": [
       "                                                  review\n",
       "3724    This version moved a little slow for my taste...\n",
       "23599   I really enjoyed this film because I have a t...\n",
       "11331   Saw this in the theater in     and fell out o...\n",
       "15745   Recently I was looking for the newly issued W...\n",
       "845     Escaping the life of being pimped by her fath..."
      ],
      "text/html": "<div>\n<style scoped>\n    .dataframe tbody tr th:only-of-type {\n        vertical-align: middle;\n    }\n\n    .dataframe tbody tr th {\n        vertical-align: top;\n    }\n\n    .dataframe thead th {\n        text-align: right;\n    }\n</style>\n<table border=\"1\" class=\"dataframe\">\n  <thead>\n    <tr style=\"text-align: right;\">\n      <th></th>\n      <th>review</th>\n    </tr>\n  </thead>\n  <tbody>\n    <tr>\n      <th>3724</th>\n      <td>This version moved a little slow for my taste...</td>\n    </tr>\n    <tr>\n      <th>23599</th>\n      <td>I really enjoyed this film because I have a t...</td>\n    </tr>\n    <tr>\n      <th>11331</th>\n      <td>Saw this in the theater in     and fell out o...</td>\n    </tr>\n    <tr>\n      <th>15745</th>\n      <td>Recently I was looking for the newly issued W...</td>\n    </tr>\n    <tr>\n      <th>845</th>\n      <td>Escaping the life of being pimped by her fath...</td>\n    </tr>\n  </tbody>\n</table>\n</div>"
     },
     "metadata": {},
     "execution_count": 9
    }
   ],
   "source": [
    "X_train.head()"
   ]
  },
  {
   "cell_type": "code",
   "execution_count": 10,
   "metadata": {},
   "outputs": [
    {
     "output_type": "execute_result",
     "data": {
      "text/plain": [
       "3724     0\n",
       "23599    1\n",
       "11331    1\n",
       "15745    1\n",
       "845      1\n",
       "Name: sentiment, dtype: int64"
      ]
     },
     "metadata": {},
     "execution_count": 10
    }
   ],
   "source": [
    "y_train.head()"
   ]
  },
  {
   "cell_type": "code",
   "execution_count": 12,
   "metadata": {},
   "outputs": [
    {
     "output_type": "execute_result",
     "data": {
      "text/plain": [
       "7500"
      ]
     },
     "metadata": {},
     "execution_count": 12
    }
   ],
   "source": [
    "len(X_test)"
   ]
  },
  {
   "cell_type": "code",
   "execution_count": 49,
   "metadata": {},
   "outputs": [],
   "source": [
    "df_test = pd.DataFrame(X_test, columns=['review'])\n",
    "df_test['sentiment'] = y_test\n",
    "df_test.to_csv('F:/workspace/Flask/03_Module/static/data/imdb_test1.csv', index=False)"
   ]
  },
  {
   "cell_type": "code",
   "execution_count": 52,
   "metadata": {},
   "outputs": [
    {
     "output_type": "execute_result",
     "data": {
      "text/plain": [
       "                                              review  sentiment\n",
       "0   My girlfriend and I were stunned by how bad t...          0\n",
       "1   What do you expect when there is no script to...          0\n",
       "2   This is a German film from      that is somet...          0\n",
       "3   Richard Tyler is a little boy who is scared o...          0\n",
       "4   I run a group to stop comedian exploitation a...          0\n",
       "5   I can watch a good gory film now and then  I ...          0\n",
       "6   I should admit first I am a huge fan of The D...          1\n",
       "7   I got to see this film at a preview and was d...          1\n",
       "8     Homeward Bound  The Incredible Journey   is...          1\n",
       "9   Still Crazy has been compared to the Spinal T...          1"
      ],
      "text/html": "<div>\n<style scoped>\n    .dataframe tbody tr th:only-of-type {\n        vertical-align: middle;\n    }\n\n    .dataframe tbody tr th {\n        vertical-align: top;\n    }\n\n    .dataframe thead th {\n        text-align: right;\n    }\n</style>\n<table border=\"1\" class=\"dataframe\">\n  <thead>\n    <tr style=\"text-align: right;\">\n      <th></th>\n      <th>review</th>\n      <th>sentiment</th>\n    </tr>\n  </thead>\n  <tbody>\n    <tr>\n      <th>0</th>\n      <td>My girlfriend and I were stunned by how bad t...</td>\n      <td>0</td>\n    </tr>\n    <tr>\n      <th>1</th>\n      <td>What do you expect when there is no script to...</td>\n      <td>0</td>\n    </tr>\n    <tr>\n      <th>2</th>\n      <td>This is a German film from      that is somet...</td>\n      <td>0</td>\n    </tr>\n    <tr>\n      <th>3</th>\n      <td>Richard Tyler is a little boy who is scared o...</td>\n      <td>0</td>\n    </tr>\n    <tr>\n      <th>4</th>\n      <td>I run a group to stop comedian exploitation a...</td>\n      <td>0</td>\n    </tr>\n    <tr>\n      <th>5</th>\n      <td>I can watch a good gory film now and then  I ...</td>\n      <td>0</td>\n    </tr>\n    <tr>\n      <th>6</th>\n      <td>I should admit first I am a huge fan of The D...</td>\n      <td>1</td>\n    </tr>\n    <tr>\n      <th>7</th>\n      <td>I got to see this film at a preview and was d...</td>\n      <td>1</td>\n    </tr>\n    <tr>\n      <th>8</th>\n      <td>Homeward Bound  The Incredible Journey   is...</td>\n      <td>1</td>\n    </tr>\n    <tr>\n      <th>9</th>\n      <td>Still Crazy has been compared to the Spinal T...</td>\n      <td>1</td>\n    </tr>\n  </tbody>\n</table>\n</div>"
     },
     "metadata": {},
     "execution_count": 52
    }
   ],
   "source": [
    "df_test = pd.read_csv('F:/workspace/Flask/03_Module/static/data/imdb_test1.csv')\n",
    "df_test.head(10)"
   ]
  },
  {
   "cell_type": "code",
   "execution_count": 11,
   "metadata": {},
   "outputs": [],
   "source": [
    "X_train.to_csv('F:\\workspace/Flask/03_Module/static/data/imdb_train.csv',sep=',',encoding='utf8',index=False)\n",
    "X_test.to_csv('F:\\workspace/Flask/03_Module/static/data/imdb_test.csv',sep=',',encoding='utf8',index=False)\n"
   ]
  },
  {
   "cell_type": "code",
   "execution_count": 14,
   "metadata": {},
   "outputs": [],
   "source": [
    "\n",
    "from sklearn.feature_extraction.text import CountVectorizer, TfidfVectorizer\n",
    "from sklearn.linear_model import LogisticRegression\n",
    "from sklearn.metrics import accuracy_score"
   ]
  },
  {
   "source": [
    "CountVectorizer"
   ],
   "cell_type": "markdown",
   "metadata": {}
  },
  {
   "cell_type": "code",
   "execution_count": 14,
   "metadata": {},
   "outputs": [],
   "source": [
    "count_vect = CountVectorizer(stop_words='english', ngram_range=(1,2))\n",
    "count_vect.fit(X_train.review)\n",
    "X_train_count = count_vect.transform(X_train.review)\n",
    "X_test_count = count_vect.transform(X_test.review)"
   ]
  },
  {
   "cell_type": "code",
   "execution_count": 15,
   "metadata": {},
   "outputs": [
    {
     "output_type": "execute_result",
     "data": {
      "text/plain": [
       "0.886"
      ]
     },
     "metadata": {},
     "execution_count": 15
    }
   ],
   "source": [
    "lr_clf = LogisticRegression(C=10)\n",
    "lr_clf.fit(X_train_count, y_train)\n",
    "pred = lr_clf.predict(X_test_count)\n",
    "accuracy_score(y_test, pred)"
   ]
  },
  {
   "source": [
    "TfidfVectorizer"
   ],
   "cell_type": "markdown",
   "metadata": {}
  },
  {
   "cell_type": "code",
   "execution_count": 16,
   "metadata": {},
   "outputs": [],
   "source": [
    "tfidf_vect = TfidfVectorizer(stop_words='english', ngram_range=(1,2))\n",
    "tfidf_vect.fit(X_train.review)\n",
    "X_train_tfidf = tfidf_vect.transform(X_train.review)\n",
    "X_test_tfidf = tfidf_vect.transform(X_test.review)"
   ]
  },
  {
   "cell_type": "code",
   "execution_count": 17,
   "metadata": {},
   "outputs": [
    {
     "output_type": "execute_result",
     "data": {
      "text/plain": [
       "0.8936"
      ]
     },
     "metadata": {},
     "execution_count": 17
    }
   ],
   "source": [
    "lr_clf = LogisticRegression(C=10)\n",
    "lr_clf.fit(X_train_tfidf, y_train)\n",
    "pred = lr_clf.predict(X_test_tfidf)\n",
    "accuracy_score(y_test, pred)"
   ]
  },
  {
   "source": [
    "모델 저장하고 불러오기"
   ],
   "cell_type": "markdown",
   "metadata": {}
  },
  {
   "cell_type": "code",
   "execution_count": 18,
   "metadata": {},
   "outputs": [
    {
     "output_type": "execute_result",
     "data": {
      "text/plain": [
       "['model/imdb_lr']"
      ]
     },
     "metadata": {},
     "execution_count": 18
    }
   ],
   "source": [
    "import joblib\n",
    "joblib.dump(tfidf_vect,'model/imdb_vect.pkl')\n",
    "joblib.dump(lr_clf,'model/imdb_lr.pkl')"
   ]
  },
  {
   "cell_type": "code",
   "execution_count": 19,
   "metadata": {},
   "outputs": [],
   "source": [
    "del tfidf_vect\n",
    "del lr_clf"
   ]
  },
  {
   "cell_type": "code",
   "execution_count": 20,
   "metadata": {},
   "outputs": [],
   "source": [
    "new_vect = joblib.load('model/imdb_vect.pkl')\n",
    "new_lr = joblib.load('model/imdb_lr.pkl')"
   ]
  },
  {
   "cell_type": "code",
   "execution_count": 21,
   "metadata": {},
   "outputs": [],
   "source": [
    "new_X_test =new_vect.transform(X_test.review)"
   ]
  },
  {
   "cell_type": "code",
   "execution_count": 22,
   "metadata": {},
   "outputs": [
    {
     "output_type": "execute_result",
     "data": {
      "text/plain": [
       "0.8936"
      ]
     },
     "metadata": {},
     "execution_count": 22
    }
   ],
   "source": [
    "pred = new_lr.predict(new_X_test)\n",
    "accuracy_score(y_test,pred)"
   ]
  },
  {
   "source": [
    "Pipeline 을 써서 학습/예측/평가"
   ],
   "cell_type": "markdown",
   "metadata": {}
  },
  {
   "cell_type": "code",
   "execution_count": 26,
   "metadata": {},
   "outputs": [
    {
     "output_type": "stream",
     "name": "stdout",
     "text": [
      "CountVectorizer + LogisticRegression 정확도: 0.8860\n"
     ]
    }
   ],
   "source": [
    "from sklearn.pipeline import Pipeline\n",
    "\n",
    "pipeline = Pipeline([\n",
    "    ('count_vect', CountVectorizer(stop_words='english',ngram_range=(1,2))),\n",
    "    ('lr_clf', LogisticRegression(C=10))\n",
    "])\n",
    "pipeline.fit(X_train.review, y_train)\n",
    "pred =pipeline.predict(X_test.review)\n",
    "acc = accuracy_score(y_test,pred)\n",
    "print(f'CountVectorizer + LogisticRegression 정확도: {acc:.4f}')"
   ]
  },
  {
   "cell_type": "code",
   "execution_count": 27,
   "metadata": {},
   "outputs": [
    {
     "output_type": "execute_result",
     "data": {
      "text/plain": [
       "['model/pipeline.pkl']"
      ]
     },
     "metadata": {},
     "execution_count": 27
    }
   ],
   "source": [
    "joblib.dump(pipeline,'model/pipeline.pkl')"
   ]
  },
  {
   "cell_type": "code",
   "execution_count": 30,
   "metadata": {},
   "outputs": [],
   "source": [
    "new_pipe = joblib.load('model/pipeline.pkl')"
   ]
  },
  {
   "cell_type": "code",
   "execution_count": 32,
   "metadata": {},
   "outputs": [
    {
     "output_type": "stream",
     "name": "stdout",
     "text": [
      "CountVectorizer + LogisticRegression 정확도: 0.8860\n"
     ]
    }
   ],
   "source": [
    "pred =new_pipe.predict(X_test.review)\n",
    "acc = accuracy_score(y_test,pred)\n",
    "print(f'CountVectorizer + LogisticRegression 정확도: {acc:.4f}')"
   ]
  },
  {
   "source": [
    "과제:"
   ],
   "cell_type": "markdown",
   "metadata": {}
  },
  {
   "cell_type": "code",
   "execution_count": 15,
   "metadata": {},
   "outputs": [],
   "source": [
    "from sklearn.pipeline import Pipeline"
   ]
  },
  {
   "cell_type": "code",
   "execution_count": 16,
   "metadata": {},
   "outputs": [],
   "source": [
    "n_pipeline = Pipeline([\n",
    "    ('tfidf_vect', TfidfVectorizer(stop_words='english',ngram_range=(1,2))),\n",
    "    ('lr_clf', LogisticRegression(C=10))\n",
    "])\n"
   ]
  },
  {
   "cell_type": "code",
   "execution_count": 17,
   "metadata": {},
   "outputs": [],
   "source": [
    "params = {\n",
    "    'tfidf_vect__ngram_range': [(1,1), (1,2)],\n",
    "    'tfidf_vect__max_df': [300, 700],\n",
    "    'lr_clf__C': [1, 10]\n",
    "}"
   ]
  },
  {
   "cell_type": "code",
   "execution_count": 18,
   "metadata": {},
   "outputs": [
    {
     "output_type": "stream",
     "name": "stdout",
     "text": [
      "Fitting 3 folds for each of 8 candidates, totalling 24 fits\n",
      "[Parallel(n_jobs=1)]: Using backend SequentialBackend with 1 concurrent workers.\n",
      "[Parallel(n_jobs=1)]: Done  24 out of  24 | elapsed:  5.6min finished\n",
      "{'lr_clf__C': 10, 'tfidf_vect__max_df': 700, 'tfidf_vect__ngram_range': (1, 2)} 0.8822287469759523\n"
     ]
    }
   ],
   "source": [
    "from sklearn.model_selection import GridSearchCV\n",
    "\n",
    "grid_pipe = GridSearchCV(n_pipeline, param_grid=params, cv=3,\n",
    "                         scoring='accuracy', verbose=1)\n",
    "grid_pipe.fit(X_train.review, y_train)\n",
    "print(grid_pipe.best_params_, grid_pipe.best_score_)\n",
    "\n"
   ]
  },
  {
   "cell_type": "code",
   "execution_count": 19,
   "metadata": {},
   "outputs": [
    {
     "output_type": "stream",
     "name": "stdout",
     "text": [
      "TfidfVectorizer + LogisticRegression 정확도: 0.8872\n"
     ]
    }
   ],
   "source": [
    "#best_count_lr = grid_pipe.best_estimator_  #선생님꺼\n",
    "#pred_count_lr = best_count_lr.predict(df_test.review.values)\n",
    "#accuracy_score(df_test.sentiment.values, pred_count_lr)\n",
    "\n",
    "pred =grid_pipe.predict(X_test.review)\n",
    "acc = accuracy_score(y_test,pred)\n",
    "print(f'TfidfVectorizer + LogisticRegression 정확도: {acc:.4f}')"
   ]
  },
  {
   "cell_type": "code",
   "execution_count": null,
   "metadata": {},
   "outputs": [],
   "source": [
    "#joblib.dump(best_count_lr, '../static/model/imdb_count_lr.pkl')"
   ]
  },
  {
   "cell_type": "code",
   "execution_count": 21,
   "metadata": {},
   "outputs": [
    {
     "output_type": "execute_result",
     "data": {
      "text/plain": [
       "['F:/workspace/Flask/03_Module/static/model/pipeline_tl.pkl']"
      ]
     },
     "metadata": {},
     "execution_count": 21
    }
   ],
   "source": [
    "import joblib\n",
    "joblib.dump(n_pipeline, 'F:/workspace/Flask/03_Module/static/model/pipeline_tl.pkl')"
   ]
  },
  {
   "source": [
    "test>"
   ],
   "cell_type": "markdown",
   "metadata": {}
  },
  {
   "cell_type": "code",
   "execution_count": 25,
   "metadata": {},
   "outputs": [
    {
     "output_type": "execute_result",
     "data": {
      "text/plain": [
       "                                              review\n",
       "0   My girlfriend and I were stunned by how bad t...\n",
       "1   What do you expect when there is no script to...\n",
       "2   This is a German film from      that is somet...\n",
       "3   Richard Tyler is a little boy who is scared o...\n",
       "4   I run a group to stop comedian exploitation a..."
      ],
      "text/html": "<div>\n<style scoped>\n    .dataframe tbody tr th:only-of-type {\n        vertical-align: middle;\n    }\n\n    .dataframe tbody tr th {\n        vertical-align: top;\n    }\n\n    .dataframe thead th {\n        text-align: right;\n    }\n</style>\n<table border=\"1\" class=\"dataframe\">\n  <thead>\n    <tr style=\"text-align: right;\">\n      <th></th>\n      <th>review</th>\n    </tr>\n  </thead>\n  <tbody>\n    <tr>\n      <th>0</th>\n      <td>My girlfriend and I were stunned by how bad t...</td>\n    </tr>\n    <tr>\n      <th>1</th>\n      <td>What do you expect when there is no script to...</td>\n    </tr>\n    <tr>\n      <th>2</th>\n      <td>This is a German film from      that is somet...</td>\n    </tr>\n    <tr>\n      <th>3</th>\n      <td>Richard Tyler is a little boy who is scared o...</td>\n    </tr>\n    <tr>\n      <th>4</th>\n      <td>I run a group to stop comedian exploitation a...</td>\n    </tr>\n  </tbody>\n</table>\n</div>"
     },
     "metadata": {},
     "execution_count": 25
    }
   ],
   "source": [
    "df_test = pd.read_csv('F:/workspace/Flask/03_Module/static/data/imdb_test.csv')\n",
    "df_test.head()"
   ]
  },
  {
   "cell_type": "code",
   "execution_count": 31,
   "metadata": {},
   "outputs": [
    {
     "output_type": "execute_result",
     "data": {
      "text/plain": [
       "(array([' I run a group to stop comedian exploitation and I just spent the past   months hearing horror stories from comedians who attempted to audition for    Last Comic Standing    If they don t have a GOOD agent  then they don t even get a chance to audition so more than     of the comedians who turn up are rejected before they can show anyone that they have talent  If they do make it to an audition  I was told that it s   pre determined   if they get a second chance  So what the TV audience sees is NOT the best comics in the US   If the comics do make it to the show  then most of them don t get IMDb credits  I know this because I did the credits for all   seasons of    Last Comic Standing   and I don t get paid for doing the Producers  job  It s really a disgrace  A month ago  I asked    Last Comic Standing     on Facebook why the Producers aren t giving IMDb credits and I was banned from their Facebook Page    I am not a comedian so I do not have a personal stake in this  I just want people to know the truth  I don t like seeing ANYONE getting exploited and that s why I ve been helping the comedians  Comedians get exploited on HBO  BET  TvOne and other cable networks but NBC is a BIG THREE network so those in charge should be ashamed of themselves for allowing this exploitation to happen   Please watch this video of a comedian who was victimized  http   www youtube com watch v RMb  hyet Y '],\n",
       "       dtype=object),\n",
       " (1,))"
      ]
     },
     "metadata": {},
     "execution_count": 31
    }
   ],
   "source": [
    "#Test\n",
    "index = 4\n",
    "test_data = (df_test.iloc[index].values) #test_data.append(df_test.iloc[index, 0]) 선생님꺼\n",
    "#label = test_data.iloc[index, -1]\n",
    "\n",
    "test_data,test_data.shape\n",
    "#,label"
   ]
  },
  {
   "cell_type": "code",
   "execution_count": 39,
   "metadata": {},
   "outputs": [
    {
     "output_type": "execute_result",
     "data": {
      "text/plain": [
       "array([' I run a group to stop comedian exploitation and I just spent the past   months hearing horror stories from comedians who attempted to audition for    Last Comic Standing    If they don t have a GOOD agent  then they don t even get a chance to audition so more than     of the comedians who turn up are rejected before they can show anyone that they have talent  If they do make it to an audition  I was told that it s   pre determined   if they get a second chance  So what the TV audience sees is NOT the best comics in the US   If the comics do make it to the show  then most of them don t get IMDb credits  I know this because I did the credits for all   seasons of    Last Comic Standing   and I don t get paid for doing the Producers  job  It s really a disgrace  A month ago  I asked    Last Comic Standing     on Facebook why the Producers aren t giving IMDb credits and I was banned from their Facebook Page    I am not a comedian so I do not have a personal stake in this  I just want people to know the truth  I don t like seeing ANYONE getting exploited and that s why I ve been helping the comedians  Comedians get exploited on HBO  BET  TvOne and other cable networks but NBC is a BIG THREE network so those in charge should be ashamed of themselves for allowing this exploitation to happen   Please watch this video of a comedian who was victimized  http   www youtube com watch v RMb  hyet Y '],\n",
       "      dtype=object)"
      ]
     },
     "metadata": {},
     "execution_count": 39
    }
   ],
   "source": [
    "test_data = (df_test.iloc[4].values) ##==>1차원  문자 어레이 이다.\n",
    "test_data"
   ]
  },
  {
   "cell_type": "code",
   "execution_count": 40,
   "metadata": {},
   "outputs": [
    {
     "output_type": "execute_result",
     "data": {
      "text/plain": [
       "(1,)"
      ]
     },
     "metadata": {},
     "execution_count": 40
    }
   ],
   "source": [
    "test_data.shape"
   ]
  },
  {
   "cell_type": "code",
   "execution_count": 45,
   "metadata": {},
   "outputs": [
    {
     "output_type": "execute_result",
     "data": {
      "text/plain": [
       "(1,)"
      ]
     },
     "metadata": {},
     "execution_count": 45
    }
   ],
   "source": [
    "test = []\n",
    "test.append(df_test.iloc[4].values)\n",
    "test[0].shape"
   ]
  },
  {
   "cell_type": "code",
   "execution_count": 37,
   "metadata": {},
   "outputs": [
    {
     "output_type": "execute_result",
     "data": {
      "text/plain": [
       "array([[' I run a group to stop comedian exploitation and I just spent the past   months hearing horror stories from comedians who attempted to audition for    Last Comic Standing    If they don t have a GOOD agent  then they don t even get a chance to audition so more than     of the comedians who turn up are rejected before they can show anyone that they have talent  If they do make it to an audition  I was told that it s   pre determined   if they get a second chance  So what the TV audience sees is NOT the best comics in the US   If the comics do make it to the show  then most of them don t get IMDb credits  I know this because I did the credits for all   seasons of    Last Comic Standing   and I don t get paid for doing the Producers  job  It s really a disgrace  A month ago  I asked    Last Comic Standing     on Facebook why the Producers aren t giving IMDb credits and I was banned from their Facebook Page    I am not a comedian so I do not have a personal stake in this  I just want people to know the truth  I don t like seeing ANYONE getting exploited and that s why I ve been helping the comedians  Comedians get exploited on HBO  BET  TvOne and other cable networks but NBC is a BIG THREE network so those in charge should be ashamed of themselves for allowing this exploitation to happen   Please watch this video of a comedian who was victimized  http   www youtube com watch v RMb  hyet Y ']],\n",
       "      dtype=object)"
      ]
     },
     "metadata": {},
     "execution_count": 37
    }
   ],
   "source": [
    "test_data = test_data.reshape(1,-1) #1차원 데이터는 predict를 할수 없다.그래서 reshape 함#==>2차원 어레이 문자이다.\n",
    "test_data"
   ]
  },
  {
   "cell_type": "code",
   "execution_count": 38,
   "metadata": {},
   "outputs": [
    {
     "output_type": "execute_result",
     "data": {
      "text/plain": [
       "(1, 1)"
      ]
     },
     "metadata": {},
     "execution_count": 38
    }
   ],
   "source": [
    "test_data.shape"
   ]
  },
  {
   "cell_type": "code",
   "execution_count": 34,
   "metadata": {},
   "outputs": [
    {
     "output_type": "execute_result",
     "data": {
      "text/plain": [
       "' I run a group to stop comedian exploitation and I just spent the past   months hearing horror stories from comedians who attempted to audition for    Last Comic Standing    If they don t have a GOOD agent  then they don t even get a chance to audition so more than     of the comedians who turn up are rejected before they can show anyone that they have talent  If they do make it to an audition  I was told that it s   pre determined   if they get a second chance  So what the TV audience sees is NOT the best comics in the US   If the comics do make it to the show  then most of them don t get IMDb credits  I know this because I did the credits for all   seasons of    Last Comic Standing   and I don t get paid for doing the Producers  job  It s really a disgrace  A month ago  I asked    Last Comic Standing     on Facebook why the Producers aren t giving IMDb credits and I was banned from their Facebook Page    I am not a comedian so I do not have a personal stake in this  I just want people to know the truth  I don t like seeing ANYONE getting exploited and that s why I ve been helping the comedians  Comedians get exploited on HBO  BET  TvOne and other cable networks but NBC is a BIG THREE network so those in charge should be ashamed of themselves for allowing this exploitation to happen   Please watch this video of a comedian who was victimized  http   www youtube com watch v RMb  hyet Y '"
      ]
     },
     "metadata": {},
     "execution_count": 34
    }
   ],
   "source": [
    "df_test.review[index] #==>0차원 스칼라 문자이다."
   ]
  },
  {
   "cell_type": "code",
   "execution_count": 48,
   "metadata": {},
   "outputs": [
    {
     "output_type": "execute_result",
     "data": {
      "text/plain": [
       "['오늘도 잠이 오지만 달립니다']"
      ]
     },
     "metadata": {},
     "execution_count": 48
    }
   ],
   "source": [
    "review = '오늘도 잠이 오지만 달립니다'\n",
    "test1= [ ]\n",
    "test1.append(review) #list(review) 이거는 안된다!\n",
    "test1"
   ]
  },
  {
   "cell_type": "code",
   "execution_count": null,
   "metadata": {},
   "outputs": [],
   "source": [
    "#여기부터 다시! 나는 긍정 부정을 않넣었네."
   ]
  },
  {
   "cell_type": "code",
   "execution_count": null,
   "metadata": {},
   "outputs": [],
   "source": [
    "label = df_test.sentiment[index]\n",
    "label"
   ]
  },
  {
   "cell_type": "code",
   "execution_count": null,
   "metadata": {},
   "outputs": [],
   "source": []
  }
 ]
}